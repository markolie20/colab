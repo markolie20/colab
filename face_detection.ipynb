{
 "cells": [
  {
   "cell_type": "code",
   "execution_count": 5,
   "id": "a11c187a-85e3-4134-8c74-c843bf45b376",
   "metadata": {},
   "outputs": [],
   "source": [
    "# !pip install showdownpy\n",
    "import showdown\n",
    "\n",
    "import numpy as np\n",
    "import pandas as pd"
   ]
  },
  {
   "cell_type": "code",
   "execution_count": 6,
   "id": "fc98562c-afe6-4536-b25c-6b579204c125",
   "metadata": {},
   "outputs": [
    {
     "data": {
      "text/plain": [
       "['Battle',\n",
       " 'ChatMessage',\n",
       " 'Client',\n",
       " 'PrivateMessage',\n",
       " 'Room',\n",
       " 'Server',\n",
       " 'User',\n",
       " '__author__',\n",
       " '__builtins__',\n",
       " '__cached__',\n",
       " '__doc__',\n",
       " '__file__',\n",
       " '__license__',\n",
       " '__loader__',\n",
       " '__name__',\n",
       " '__package__',\n",
       " '__path__',\n",
       " '__spec__',\n",
       " '__title__',\n",
       " '__version__',\n",
       " 'client',\n",
       " 'docutils',\n",
       " 'message',\n",
       " 'room',\n",
       " 'server',\n",
       " 'user',\n",
       " 'utils']"
      ]
     },
     "execution_count": 6,
     "metadata": {},
     "output_type": "execute_result"
    }
   ],
   "source": [
    "dir(showdown)"
   ]
  },
  {
   "cell_type": "code",
   "execution_count": 85,
   "id": "726bd26b-06d1-44b7-a21e-0255ec15c7a8",
   "metadata": {},
   "outputs": [
    {
     "name": "stdout",
     "output_type": "stream",
     "text": [
      "None\n"
     ]
    }
   ],
   "source": [
    "client = showdown.Client(name='markolie20', password='beertjeiscool123')\n",
    "client.start()\n",
    "battles = await client.query_battles(battle_format='gen9randombattle', min_elo=1000, delay=3)\n",
    "print(battles)"
   ]
  },
  {
   "cell_type": "code",
   "execution_count": 58,
   "id": "071dbc56-f22f-4b21-bb07-4fb56b2e88e0",
   "metadata": {},
   "outputs": [
    {
     "data": {
      "text/plain": [
       "['__class__',\n",
       " '__delattr__',\n",
       " '__dict__',\n",
       " '__dir__',\n",
       " '__doc__',\n",
       " '__eq__',\n",
       " '__format__',\n",
       " '__ge__',\n",
       " '__getattribute__',\n",
       " '__getstate__',\n",
       " '__gt__',\n",
       " '__hash__',\n",
       " '__init__',\n",
       " '__init_subclass__',\n",
       " '__le__',\n",
       " '__lt__',\n",
       " '__module__',\n",
       " '__ne__',\n",
       " '__new__',\n",
       " '__reduce__',\n",
       " '__reduce_ex__',\n",
       " '__repr__',\n",
       " '__setattr__',\n",
       " '__sizeof__',\n",
       " '__str__',\n",
       " '__subclasshook__',\n",
       " '__weakref__',\n",
       " '_get_user_data',\n",
       " '_get_user_data_async',\n",
       " '_handler',\n",
       " '_on_disconnect',\n",
       " '_reaper_queue',\n",
       " '_set_defaults',\n",
       " '_tasks',\n",
       " '_transient_task_reaper',\n",
       " '_transient_tasks',\n",
       " '_user_data',\n",
       " 'accept_challenge',\n",
       " 'add_output',\n",
       " 'add_task',\n",
       " 'auth',\n",
       " 'autologin',\n",
       " 'autoreconnect',\n",
       " 'cancel_challenge',\n",
       " 'cancel_search',\n",
       " 'challenge',\n",
       " 'challengekeyid',\n",
       " 'challenges',\n",
       " 'challstr',\n",
       " 'client',\n",
       " 'connected',\n",
       " 'forfeit',\n",
       " 'get_ladder',\n",
       " 'get_ladder_async',\n",
       " 'get_ratings',\n",
       " 'get_ratings_async',\n",
       " 'get_register_name',\n",
       " 'get_register_name_async',\n",
       " 'get_register_time',\n",
       " 'get_register_time_async',\n",
       " 'id',\n",
       " 'join',\n",
       " 'leave',\n",
       " 'login',\n",
       " 'loop',\n",
       " 'max_room_logs',\n",
       " 'name',\n",
       " 'name_matches',\n",
       " 'on_challenge_update',\n",
       " 'on_chat_message',\n",
       " 'on_connect',\n",
       " 'on_disconnect',\n",
       " 'on_interval',\n",
       " 'on_login',\n",
       " 'on_private_message',\n",
       " 'on_query_response',\n",
       " 'on_receive',\n",
       " 'on_room_deinit',\n",
       " 'on_room_init',\n",
       " 'output_queue',\n",
       " 'password',\n",
       " 'private_message',\n",
       " 'query_battles',\n",
       " 'query_rooms',\n",
       " 'receiver',\n",
       " 'reject_challenge',\n",
       " 'request_user_details',\n",
       " 'rooms',\n",
       " 'save_replay',\n",
       " 'save_replay_local',\n",
       " 'say',\n",
       " 'search_battles',\n",
       " 'send_challenge',\n",
       " 'send_message',\n",
       " 'sender',\n",
       " 'server',\n",
       " 'session',\n",
       " 'set_avatar',\n",
       " 'set_name',\n",
       " 'start',\n",
       " 'strict_exceptions',\n",
       " 'upload_team',\n",
       " 'use_command',\n",
       " 'validate_team',\n",
       " 'websocket',\n",
       " 'websocket_url']"
      ]
     },
     "execution_count": 58,
     "metadata": {},
     "output_type": "execute_result"
    }
   ],
   "source": [
    "dir(client)"
   ]
  },
  {
   "cell_type": "code",
   "execution_count": null,
   "id": "4f8c2f2b-84c2-43e3-811c-c84e0900083d",
   "metadata": {},
   "outputs": [],
   "source": []
  }
 ],
 "metadata": {
  "kernelspec": {
   "display_name": "Python 3 (ipykernel)",
   "language": "python",
   "name": "python3"
  },
  "language_info": {
   "codemirror_mode": {
    "name": "ipython",
    "version": 3
   },
   "file_extension": ".py",
   "mimetype": "text/x-python",
   "name": "python",
   "nbconvert_exporter": "python",
   "pygments_lexer": "ipython3",
   "version": "3.11.7"
  }
 },
 "nbformat": 4,
 "nbformat_minor": 5
}
